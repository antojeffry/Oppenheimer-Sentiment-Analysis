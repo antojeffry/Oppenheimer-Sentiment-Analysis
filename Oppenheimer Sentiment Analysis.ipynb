{
 "cells": [
  {
   "cell_type": "markdown",
   "id": "e40de674",
   "metadata": {},
   "source": [
    "# Sentiment Analysis of **Oppenheimer** movie reviews from IMDB"
   ]
  },
  {
   "cell_type": "markdown",
   "id": "e0c15513",
   "metadata": {},
   "source": [
    "<img src=\"Img/imdb website.png\" width=\"800\" />"
   ]
  },
  {
   "cell_type": "markdown",
   "id": "b9c12b94",
   "metadata": {},
   "source": [
    "Note: Each time you run this notebook, you will get different updated datasets as the reviews keep adding up"
   ]
  },
  {
   "cell_type": "markdown",
   "id": "da000685",
   "metadata": {},
   "source": [
    "**Scraping the reviews from the imdb website for oppenheimer movie**"
   ]
  },
  {
   "cell_type": "markdown",
   "id": "904be849",
   "metadata": {},
   "source": [
    "Importing the librarires for web scraping"
   ]
  },
  {
   "cell_type": "code",
   "execution_count": 1,
   "id": "127ce92e",
   "metadata": {},
   "outputs": [],
   "source": [
    "import time\n",
    "import csv\n",
    "from selenium import webdriver\n",
    "from selenium.webdriver.common.by import By\n",
    "from selenium.webdriver.support.ui import WebDriverWait\n",
    "from selenium.webdriver.support import expected_conditions as EC"
   ]
  },
  {
   "cell_type": "code",
   "execution_count": 2,
   "id": "2aa5def8",
   "metadata": {},
   "outputs": [],
   "source": [
    "# Set up Chrome WebDriver\n",
    "driver = webdriver.Chrome()\n",
    "\n",
    "url = \"https://www.imdb.com/title/tt15398776/reviews?ref_=tt_urv\"\n",
    "driver.get(url)"
   ]
  },
  {
   "cell_type": "markdown",
   "id": "39c42e34",
   "metadata": {},
   "source": [
    "**Since all the reviews are only seen when the load more button is clicked, we are going to automate the process using selenium ChromeWebdriver**"
   ]
  },
  {
   "cell_type": "code",
   "execution_count": 3,
   "id": "7639899e",
   "metadata": {},
   "outputs": [],
   "source": [
    "# Wait for the page to load and the \"Load More\" button to become clickable\n",
    "wait = WebDriverWait(driver, 10)\n",
    "\n",
    "# Scroll down the page and wait for new reviews to load\n",
    "while True:\n",
    "    try:\n",
    "        load_more_button = wait.until(EC.element_to_be_clickable((By.CLASS_NAME, \"ipl-load-more__button\")))\n",
    "        driver.execute_script(\"arguments[0].scrollIntoView();\", load_more_button)\n",
    "        load_more_button.click()\n",
    "        time.sleep(2)  # Allow time for new reviews to load\n",
    "    except Exception:\n",
    "        break\n",
    "\n",
    "# Extract all the reviews\n",
    "reviews = driver.find_elements(By.CSS_SELECTOR, \".lister-item-content .text.show-more__control\")\n",
    "\n",
    "# Save the reviews to a CSV file\n",
    "with open(\"imdb_reviews.csv\", mode=\"w\", encoding=\"utf-8\", newline=\"\") as file:\n",
    "    writer = csv.writer(file)\n",
    "    writer.writerow([\"Review\"])\n",
    "\n",
    "    for review in reviews:\n",
    "        review_text = review.text.strip()\n",
    "        writer.writerow([review_text])\n",
    "\n",
    "driver.quit()"
   ]
  },
  {
   "cell_type": "markdown",
   "id": "61d626c8",
   "metadata": {},
   "source": [
    "Importing libraries for Sentiment analysis"
   ]
  },
  {
   "cell_type": "code",
   "execution_count": 4,
   "id": "a83740ae",
   "metadata": {},
   "outputs": [],
   "source": [
    "import pandas as pd\n",
    "import numpy as np\n",
    "import matplotlib.pyplot as plt\n",
    "import seaborn as sns\n",
    "\n",
    "plt.style.use('ggplot')"
   ]
  },
  {
   "cell_type": "code",
   "execution_count": 5,
   "id": "20580e59",
   "metadata": {
    "scrolled": true
   },
   "outputs": [
    {
     "data": {
      "text/html": [
       "<div>\n",
       "<style scoped>\n",
       "    .dataframe tbody tr th:only-of-type {\n",
       "        vertical-align: middle;\n",
       "    }\n",
       "\n",
       "    .dataframe tbody tr th {\n",
       "        vertical-align: top;\n",
       "    }\n",
       "\n",
       "    .dataframe thead th {\n",
       "        text-align: right;\n",
       "    }\n",
       "</style>\n",
       "<table border=\"1\" class=\"dataframe\">\n",
       "  <thead>\n",
       "    <tr style=\"text-align: right;\">\n",
       "      <th></th>\n",
       "      <th>Review</th>\n",
       "    </tr>\n",
       "  </thead>\n",
       "  <tbody>\n",
       "    <tr>\n",
       "      <th>0</th>\n",
       "      <td>You'll have to have your wits about you and yo...</td>\n",
       "    </tr>\n",
       "    <tr>\n",
       "      <th>1</th>\n",
       "      <td>One of the most anticipated films of the year ...</td>\n",
       "    </tr>\n",
       "    <tr>\n",
       "      <th>2</th>\n",
       "      <td>\"Oppenheimer\" is a biographical thriller film ...</td>\n",
       "    </tr>\n",
       "    <tr>\n",
       "      <th>3</th>\n",
       "      <td>This movie is just... wow! I don't think I hav...</td>\n",
       "    </tr>\n",
       "    <tr>\n",
       "      <th>4</th>\n",
       "      <td>I may consider myself lucky to be alive to wat...</td>\n",
       "    </tr>\n",
       "    <tr>\n",
       "      <th>5</th>\n",
       "      <td>NaN</td>\n",
       "    </tr>\n",
       "    <tr>\n",
       "      <th>6</th>\n",
       "      <td>I'm still collecting my thoughts after experie...</td>\n",
       "    </tr>\n",
       "    <tr>\n",
       "      <th>7</th>\n",
       "      <td>Oppenheimer might be the best film I watched i...</td>\n",
       "    </tr>\n",
       "    <tr>\n",
       "      <th>8</th>\n",
       "      <td>Master craftsman, Christopher Nolan - probably...</td>\n",
       "    </tr>\n",
       "    <tr>\n",
       "      <th>9</th>\n",
       "      <td>Just came out of the theater and watching Oppe...</td>\n",
       "    </tr>\n",
       "  </tbody>\n",
       "</table>\n",
       "</div>"
      ],
      "text/plain": [
       "                                              Review\n",
       "0  You'll have to have your wits about you and yo...\n",
       "1  One of the most anticipated films of the year ...\n",
       "2  \"Oppenheimer\" is a biographical thriller film ...\n",
       "3  This movie is just... wow! I don't think I hav...\n",
       "4  I may consider myself lucky to be alive to wat...\n",
       "5                                                NaN\n",
       "6  I'm still collecting my thoughts after experie...\n",
       "7  Oppenheimer might be the best film I watched i...\n",
       "8  Master craftsman, Christopher Nolan - probably...\n",
       "9  Just came out of the theater and watching Oppe..."
      ]
     },
     "execution_count": 5,
     "metadata": {},
     "output_type": "execute_result"
    }
   ],
   "source": [
    "df = pd.read_csv(\"imdb_reviews.csv\")\n",
    "df.head(10)"
   ]
  },
  {
   "cell_type": "code",
   "execution_count": 6,
   "id": "2365e66a",
   "metadata": {},
   "outputs": [
    {
     "data": {
      "text/plain": [
       "(2225, 1)"
      ]
     },
     "execution_count": 6,
     "metadata": {},
     "output_type": "execute_result"
    }
   ],
   "source": [
    "df.shape"
   ]
  },
  {
   "cell_type": "code",
   "execution_count": 7,
   "id": "680bd4df",
   "metadata": {
    "scrolled": true
   },
   "outputs": [
    {
     "data": {
      "text/plain": [
       "Review    418\n",
       "dtype: int64"
      ]
     },
     "execution_count": 7,
     "metadata": {},
     "output_type": "execute_result"
    }
   ],
   "source": [
    "df.isnull().sum()"
   ]
  },
  {
   "cell_type": "markdown",
   "id": "732f3964",
   "metadata": {},
   "source": [
    "These 408 reviews were redacted by the users because it had spoilers. We can just remove those"
   ]
  },
  {
   "cell_type": "markdown",
   "id": "fe7fa3e9",
   "metadata": {},
   "source": [
    "**Removing null values**"
   ]
  },
  {
   "cell_type": "code",
   "execution_count": 8,
   "id": "1ab20ad5",
   "metadata": {},
   "outputs": [],
   "source": [
    "df=df.dropna()"
   ]
  },
  {
   "cell_type": "code",
   "execution_count": 9,
   "id": "33aec9a1",
   "metadata": {},
   "outputs": [
    {
     "data": {
      "text/plain": [
       "Review    0\n",
       "dtype: int64"
      ]
     },
     "execution_count": 9,
     "metadata": {},
     "output_type": "execute_result"
    }
   ],
   "source": [
    "df.isnull().sum()"
   ]
  },
  {
   "cell_type": "code",
   "execution_count": 10,
   "id": "2f1973cd",
   "metadata": {},
   "outputs": [
    {
     "data": {
      "text/plain": [
       "(1807, 1)"
      ]
     },
     "execution_count": 10,
     "metadata": {},
     "output_type": "execute_result"
    }
   ],
   "source": [
    "df.shape"
   ]
  },
  {
   "cell_type": "code",
   "execution_count": 11,
   "id": "357d3e58",
   "metadata": {},
   "outputs": [
    {
     "name": "stdout",
     "output_type": "stream",
     "text": [
      "                                                 Review\n",
      "50    When you see Oppenheimer, what catches your at...\n",
      "1249  I may consider myself lucky to be alive to wat...\n",
      "1256  You'll have to have your wits about you and yo...\n",
      "1426  The cinematic genius Christopher Nolan is undo...\n",
      "1709  Movie skillfully combines the elements of acti...\n",
      "1794  I may consider myself lucky to be alive to wat...\n"
     ]
    }
   ],
   "source": [
    "dup=df.duplicated()\n",
    "print(df[dup])"
   ]
  },
  {
   "cell_type": "markdown",
   "id": "289c62e6",
   "metadata": {},
   "source": [
    "So there are **six duplicates**. Let's remove them"
   ]
  },
  {
   "cell_type": "code",
   "execution_count": 12,
   "id": "881e90bc",
   "metadata": {},
   "outputs": [
    {
     "data": {
      "text/plain": [
       "(1801, 1)"
      ]
     },
     "execution_count": 12,
     "metadata": {},
     "output_type": "execute_result"
    }
   ],
   "source": [
    "df=df.drop_duplicates(keep=\"first\")\n",
    "df.shape"
   ]
  },
  {
   "cell_type": "code",
   "execution_count": 13,
   "id": "8fabf54f",
   "metadata": {},
   "outputs": [],
   "source": [
    "def clean_review(review):\n",
    "    review = review.replace('\\n', ' ')   # Remove newline characters\n",
    "    review = review.replace('\\\\', '')    # Remove backslash characters\n",
    "    review = review.replace('\\'', '')    # Remove single quotes\n",
    "    return review\n",
    "\n",
    "df['Review'] = df['Review'].apply(clean_review)"
   ]
  },
  {
   "cell_type": "code",
   "execution_count": 29,
   "id": "8f0a15c0",
   "metadata": {
    "scrolled": false
   },
   "outputs": [
    {
     "data": {
      "text/plain": [
       "'Master craftsman, Christopher Nolan - probably the best blockbuster director out there (along with Ridley Scott) - returns to good old fashioned no-CGI drama, where tension comes from words spoken, and how people react to them. There are no chases, no shoot-outs , death defying stunts or explosions.... wait, actually there is one explosion. I dont know how they made those scenes without CGI, but its technical achievement for sure.  All shot in 70mm IMAX this is beautiful film. And the lead cast - all seasoned actors - do a terrific job.  My only gripe is that its a tad too long. The final act could/should have been trimmed. But its still the best movie I have seen this year.  I strongly recommend to watch this on an IMAX screen before its taken down in a month or so.'"
      ]
     },
     "execution_count": 29,
     "metadata": {},
     "output_type": "execute_result"
    }
   ],
   "source": [
    "example = df['Review'][8]\n",
    "example"
   ]
  },
  {
   "cell_type": "markdown",
   "id": "366796b8",
   "metadata": {},
   "source": [
    "**Now, the text are way better for sentiment analysis**"
   ]
  },
  {
   "cell_type": "markdown",
   "id": "d5999149",
   "metadata": {},
   "source": [
    "# Vader model"
   ]
  },
  {
   "cell_type": "code",
   "execution_count": 22,
   "id": "b324fd4e",
   "metadata": {},
   "outputs": [],
   "source": [
    "from nltk.sentiment import SentimentIntensityAnalyzer\n",
    "from tqdm.notebook import tqdm\n",
    "\n",
    "sia = SentimentIntensityAnalyzer()"
   ]
  },
  {
   "cell_type": "markdown",
   "id": "f198e383",
   "metadata": {},
   "source": [
    "# Note\n",
    "\n",
    "**If the SentimentIntensityAnalyzer() is not working, use the below code, otherwise no need to run this code**"
   ]
  },
  {
   "cell_type": "code",
   "execution_count": null,
   "id": "46f96cad",
   "metadata": {},
   "outputs": [],
   "source": [
    "import nltk\n",
    "import ssl\n",
    "\n",
    "try:\n",
    "    _create_unverified_https_context = ssl._create_unverified_context\n",
    "except AttributeError:\n",
    "    pass\n",
    "else:\n",
    "    ssl._create_default_https_context = _create_unverified_https_context\n",
    "\n",
    "nltk.download()"
   ]
  },
  {
   "cell_type": "code",
   "execution_count": 30,
   "id": "2978bbe1",
   "metadata": {},
   "outputs": [],
   "source": [
    "example=df[\"Review\"][8]"
   ]
  },
  {
   "cell_type": "code",
   "execution_count": 31,
   "id": "5b3b8ea4",
   "metadata": {},
   "outputs": [
    {
     "data": {
      "text/plain": [
       "{'neg': 0.048, 'neu': 0.749, 'pos': 0.203, 'compound': 0.9795}"
      ]
     },
     "execution_count": 31,
     "metadata": {},
     "output_type": "execute_result"
    }
   ],
   "source": [
    "sia.polarity_scores(example)"
   ]
  },
  {
   "cell_type": "markdown",
   "id": "97d4bfb3",
   "metadata": {},
   "source": [
    "**Wow the sentiment of the review by the vader model is good,the compound is near to +1, therefore the review is positive**"
   ]
  },
  {
   "cell_type": "code",
   "execution_count": 32,
   "id": "a46ab05b",
   "metadata": {},
   "outputs": [
    {
     "data": {
      "application/vnd.jupyter.widget-view+json": {
       "model_id": "99f7dc176031499f8da491879f1fdb59",
       "version_major": 2,
       "version_minor": 0
      },
      "text/plain": [
       "  0%|          | 0/1801 [00:00<?, ?it/s]"
      ]
     },
     "metadata": {},
     "output_type": "display_data"
    }
   ],
   "source": [
    "compound_scores = []\n",
    "positive_scores = []\n",
    "negative_scores = []\n",
    "neutral_scores = []\n",
    "\n",
    "# Iterate through the DataFrame and calculate polarity scores\n",
    "for i, row in tqdm(df.iterrows(), total=len(df)):\n",
    "    text = row['Review']\n",
    "    scores = sia.polarity_scores(text)\n",
    "    compound_scores.append(scores['compound'])\n",
    "    positive_scores.append(scores['pos'])\n",
    "    negative_scores.append(scores['neg'])\n",
    "    neutral_scores.append(scores['neu'])\n",
    "\n",
    "df['V_Compound_Score'] = compound_scores\n",
    "df['V_Positive_Score'] = positive_scores\n",
    "df['V_Negative_Score'] = negative_scores\n",
    "df['V_Neutral_Score'] = neutral_scores"
   ]
  },
  {
   "cell_type": "markdown",
   "id": "a38e20d3",
   "metadata": {},
   "source": [
    "Run the below cell individually to see how well the vader model performs "
   ]
  },
  {
   "cell_type": "code",
   "execution_count": null,
   "id": "f87fe850",
   "metadata": {
    "scrolled": true
   },
   "outputs": [],
   "source": [
    "# df['Review'][2154]\n",
    "# df['Review'][2155]\n",
    "# df['Review'][2143]\n",
    "# df['Review'][2149]\n",
    "# df['Review'][2190]\n",
    "# df['Review'][2140]\n",
    "# df['Review'][2149]\n",
    "# df['Review'][2149]"
   ]
  },
  {
   "cell_type": "code",
   "execution_count": 33,
   "id": "c5ea5e25",
   "metadata": {},
   "outputs": [
    {
     "data": {
      "text/plain": [
       "'My Review - Oppenheimer My Rating Ten plus 10/10 In Cinemas now  If there were to be a movie to represent the last one hundred years of existence on our planet to be placed in a time capsule and opened in 100 years time if by any chance our planet is still in existence it should be Oppenheimer.  This is truly an astonishing achievement in Cinema storytelling covering a wide arc of world events and the personalities that played pivotal roles in the 20th Century that affect us today many that are still responsible for the fear and instability around the Globe.  Oppenheimer written and directed by Christopher Nolan is a chilling disturbing but engrossing movie to sit through 3 hours but its very so very enlightening.  I found it Shakespearian in its portrayal of human folly and the pursuit of power that corrupts when jealousy and lies spread like cancer to undermine reputations .  Detestable characters like Hitler, J Edgar Hoover , Senator Joseph McCarthy ,Mussolini are mentioned to establish a timeline by name but dont appear in Oppenheimer however their influence and the consequences of their tyranny is obvious as we examine the life of Julius Robert Oppenheimer from 1927 when he studied physics in Germany returning to America where he was eventually recruited in 1942 to work on the Manhattan Project.  In 1943 Oppenheimer was appointed director of the Manhattan project situated in the desert of New Mexico where the Los Alamos Laboratory and town was specifically built for one purpose. The personnel at Los Alamos under Oppenheimer were tasked with developing the first nuclear weapons, four years after the start of the German nuclear weapons program.  The second half of Oppenheimer I found the most compelling as the inventor of the most destructive force ever unleashed on our planet is sidelined and vilified after the terrible and deliberate destruction of the 1945 bombings of Hiroshima and Nagasaki Japan that ended one war but as we know today did nothing to end war on our volatile planet.  The Oppenheimer quote appearing at the beginning of the movie -, \"Now I am become Death, the destroyer of worlds\", sums up his suspicion guilt and fear after the destruction of the two cities of Nagasaki and Hiroshima that President Harry Truman chose to destroy while glibly commenting that he would spare Kyoto because its a beautiful city that he and his wife shared a wonderful honeymoon .  After these events Oppenheimer is vilified and investigated by the Communist witch hunts of the 1950s when many of his ego driven and powerful adversaries summon him to testify at hearings to prove hes not a traitor.  The performances in Oppenheimer are all stunning what a cast that includes Cillian Murphy, Emily Blunt, Robert Downey Jr. ,Matt Damon ,Kenneth Branagh , Tom Conti, Josh Harnett, Florence Pugh, Rami Malek and Casey Afffleck.  The four standout performances for me were from Irish actor Cillian Murphy in the title role of J Robert Oppenheimer his is truly an Oscar worthy performance . He is so impressive as the quiet but complex scientist whose problematic wife Kitty played by Emily Blunt in one of her finest performances has moments in this movie that should also earn her an Oscar nomination.  The other standouts for me are Robert Downey Jr. As Lewis Strauss a vindictive and complicated associate of Oppenheimer who betrays his friend for the sake of ambition.  The look of this movie is also impressive especially on a huge screen like our local GMax . Interestingly Oppenheimer is the first ever IMAX film partially shot in 65mm black and white celluloid which Kodak developed and the first ever film stock for IMAX as a process in order for the black and white footage to look the same quality as the rest of the movie.  I can only sum up by saying Oppenheimer for me is the finest and most interesting biography movie Ive seen in the cinema in many years and congratulate Christopher Nolan on what I think is his greatest movie yet.'"
      ]
     },
     "execution_count": 33,
     "metadata": {},
     "output_type": "execute_result"
    }
   ],
   "source": [
    "df['Review'][18]"
   ]
  },
  {
   "cell_type": "markdown",
   "id": "f1ddea8c",
   "metadata": {},
   "source": [
    "The above cell indicates the model has some problem in predicting the sentiment. Even tho it is positive, vader model marks it as negative"
   ]
  },
  {
   "cell_type": "code",
   "execution_count": 34,
   "id": "0d43e42c",
   "metadata": {
    "scrolled": true
   },
   "outputs": [
    {
     "data": {
      "text/html": [
       "<div>\n",
       "<style scoped>\n",
       "    .dataframe tbody tr th:only-of-type {\n",
       "        vertical-align: middle;\n",
       "    }\n",
       "\n",
       "    .dataframe tbody tr th {\n",
       "        vertical-align: top;\n",
       "    }\n",
       "\n",
       "    .dataframe thead th {\n",
       "        text-align: right;\n",
       "    }\n",
       "</style>\n",
       "<table border=\"1\" class=\"dataframe\">\n",
       "  <thead>\n",
       "    <tr style=\"text-align: right;\">\n",
       "      <th></th>\n",
       "      <th>Review</th>\n",
       "      <th>V_Compound_Score</th>\n",
       "      <th>V_Positive_Score</th>\n",
       "      <th>V_Negative_Score</th>\n",
       "      <th>V_Neutral_Score</th>\n",
       "    </tr>\n",
       "  </thead>\n",
       "  <tbody>\n",
       "    <tr>\n",
       "      <th>0</th>\n",
       "      <td>Youll have to have your wits about you and you...</td>\n",
       "      <td>0.9902</td>\n",
       "      <td>0.184</td>\n",
       "      <td>0.050</td>\n",
       "      <td>0.766</td>\n",
       "    </tr>\n",
       "    <tr>\n",
       "      <th>1</th>\n",
       "      <td>One of the most anticipated films of the year ...</td>\n",
       "      <td>0.9975</td>\n",
       "      <td>0.236</td>\n",
       "      <td>0.048</td>\n",
       "      <td>0.716</td>\n",
       "    </tr>\n",
       "    <tr>\n",
       "      <th>2</th>\n",
       "      <td>\"Oppenheimer\" is a biographical thriller film ...</td>\n",
       "      <td>0.9986</td>\n",
       "      <td>0.148</td>\n",
       "      <td>0.097</td>\n",
       "      <td>0.755</td>\n",
       "    </tr>\n",
       "    <tr>\n",
       "      <th>3</th>\n",
       "      <td>This movie is just... wow! I dont think I have...</td>\n",
       "      <td>0.9908</td>\n",
       "      <td>0.223</td>\n",
       "      <td>0.060</td>\n",
       "      <td>0.718</td>\n",
       "    </tr>\n",
       "    <tr>\n",
       "      <th>4</th>\n",
       "      <td>I may consider myself lucky to be alive to wat...</td>\n",
       "      <td>0.9253</td>\n",
       "      <td>0.167</td>\n",
       "      <td>0.045</td>\n",
       "      <td>0.788</td>\n",
       "    </tr>\n",
       "    <tr>\n",
       "      <th>6</th>\n",
       "      <td>Im still collecting my thoughts after experien...</td>\n",
       "      <td>0.8873</td>\n",
       "      <td>0.131</td>\n",
       "      <td>0.063</td>\n",
       "      <td>0.806</td>\n",
       "    </tr>\n",
       "    <tr>\n",
       "      <th>7</th>\n",
       "      <td>Oppenheimer might be the best film I watched i...</td>\n",
       "      <td>0.9896</td>\n",
       "      <td>0.183</td>\n",
       "      <td>0.031</td>\n",
       "      <td>0.785</td>\n",
       "    </tr>\n",
       "    <tr>\n",
       "      <th>8</th>\n",
       "      <td>Master craftsman, Christopher Nolan - probably...</td>\n",
       "      <td>0.9795</td>\n",
       "      <td>0.203</td>\n",
       "      <td>0.048</td>\n",
       "      <td>0.749</td>\n",
       "    </tr>\n",
       "    <tr>\n",
       "      <th>9</th>\n",
       "      <td>Just came out of the theater and watching Oppe...</td>\n",
       "      <td>0.9958</td>\n",
       "      <td>0.287</td>\n",
       "      <td>0.023</td>\n",
       "      <td>0.690</td>\n",
       "    </tr>\n",
       "    <tr>\n",
       "      <th>10</th>\n",
       "      <td>Everybody involved with the production of Oppe...</td>\n",
       "      <td>0.9992</td>\n",
       "      <td>0.149</td>\n",
       "      <td>0.062</td>\n",
       "      <td>0.790</td>\n",
       "    </tr>\n",
       "  </tbody>\n",
       "</table>\n",
       "</div>"
      ],
      "text/plain": [
       "                                               Review  V_Compound_Score  \\\n",
       "0   Youll have to have your wits about you and you...            0.9902   \n",
       "1   One of the most anticipated films of the year ...            0.9975   \n",
       "2   \"Oppenheimer\" is a biographical thriller film ...            0.9986   \n",
       "3   This movie is just... wow! I dont think I have...            0.9908   \n",
       "4   I may consider myself lucky to be alive to wat...            0.9253   \n",
       "6   Im still collecting my thoughts after experien...            0.8873   \n",
       "7   Oppenheimer might be the best film I watched i...            0.9896   \n",
       "8   Master craftsman, Christopher Nolan - probably...            0.9795   \n",
       "9   Just came out of the theater and watching Oppe...            0.9958   \n",
       "10  Everybody involved with the production of Oppe...            0.9992   \n",
       "\n",
       "    V_Positive_Score  V_Negative_Score  V_Neutral_Score  \n",
       "0              0.184             0.050            0.766  \n",
       "1              0.236             0.048            0.716  \n",
       "2              0.148             0.097            0.755  \n",
       "3              0.223             0.060            0.718  \n",
       "4              0.167             0.045            0.788  \n",
       "6              0.131             0.063            0.806  \n",
       "7              0.183             0.031            0.785  \n",
       "8              0.203             0.048            0.749  \n",
       "9              0.287             0.023            0.690  \n",
       "10             0.149             0.062            0.790  "
      ]
     },
     "execution_count": 34,
     "metadata": {},
     "output_type": "execute_result"
    }
   ],
   "source": [
    "df.head(10)"
   ]
  },
  {
   "cell_type": "markdown",
   "id": "ae206171",
   "metadata": {},
   "source": [
    "# Textblob model"
   ]
  },
  {
   "cell_type": "code",
   "execution_count": 35,
   "id": "e6da7231",
   "metadata": {},
   "outputs": [
    {
     "data": {
      "application/vnd.jupyter.widget-view+json": {
       "model_id": "990e575e51d440ebb2c39b894060a0b5",
       "version_major": 2,
       "version_minor": 0
      },
      "text/plain": [
       "  0%|          | 0/1801 [00:00<?, ?it/s]"
      ]
     },
     "metadata": {},
     "output_type": "display_data"
    }
   ],
   "source": [
    "from textblob import TextBlob\n",
    "from tqdm.notebook import tqdm\n",
    "\n",
    "textblob_scores = []\n",
    "\n",
    "for i, row in tqdm(df.iterrows(), total=len(df)):\n",
    "    text = row['Review']\n",
    "    blob = TextBlob(text)\n",
    "    textblob_scores.append(blob.sentiment.polarity)\n",
    "\n",
    "df['TextBlob_Score'] = textblob_scores"
   ]
  },
  {
   "cell_type": "code",
   "execution_count": 36,
   "id": "aa77b626",
   "metadata": {},
   "outputs": [
    {
     "data": {
      "text/html": [
       "<div>\n",
       "<style scoped>\n",
       "    .dataframe tbody tr th:only-of-type {\n",
       "        vertical-align: middle;\n",
       "    }\n",
       "\n",
       "    .dataframe tbody tr th {\n",
       "        vertical-align: top;\n",
       "    }\n",
       "\n",
       "    .dataframe thead th {\n",
       "        text-align: right;\n",
       "    }\n",
       "</style>\n",
       "<table border=\"1\" class=\"dataframe\">\n",
       "  <thead>\n",
       "    <tr style=\"text-align: right;\">\n",
       "      <th></th>\n",
       "      <th>Review</th>\n",
       "      <th>V_Compound_Score</th>\n",
       "      <th>V_Positive_Score</th>\n",
       "      <th>V_Negative_Score</th>\n",
       "      <th>V_Neutral_Score</th>\n",
       "      <th>TextBlob_Score</th>\n",
       "    </tr>\n",
       "  </thead>\n",
       "  <tbody>\n",
       "    <tr>\n",
       "      <th>0</th>\n",
       "      <td>Youll have to have your wits about you and you...</td>\n",
       "      <td>0.9902</td>\n",
       "      <td>0.184</td>\n",
       "      <td>0.050</td>\n",
       "      <td>0.766</td>\n",
       "      <td>0.337667</td>\n",
       "    </tr>\n",
       "    <tr>\n",
       "      <th>1</th>\n",
       "      <td>One of the most anticipated films of the year ...</td>\n",
       "      <td>0.9975</td>\n",
       "      <td>0.236</td>\n",
       "      <td>0.048</td>\n",
       "      <td>0.716</td>\n",
       "      <td>0.259009</td>\n",
       "    </tr>\n",
       "    <tr>\n",
       "      <th>2</th>\n",
       "      <td>\"Oppenheimer\" is a biographical thriller film ...</td>\n",
       "      <td>0.9986</td>\n",
       "      <td>0.148</td>\n",
       "      <td>0.097</td>\n",
       "      <td>0.755</td>\n",
       "      <td>0.160257</td>\n",
       "    </tr>\n",
       "    <tr>\n",
       "      <th>3</th>\n",
       "      <td>This movie is just... wow! I dont think I have...</td>\n",
       "      <td>0.9908</td>\n",
       "      <td>0.223</td>\n",
       "      <td>0.060</td>\n",
       "      <td>0.718</td>\n",
       "      <td>0.292188</td>\n",
       "    </tr>\n",
       "    <tr>\n",
       "      <th>4</th>\n",
       "      <td>I may consider myself lucky to be alive to wat...</td>\n",
       "      <td>0.9253</td>\n",
       "      <td>0.167</td>\n",
       "      <td>0.045</td>\n",
       "      <td>0.788</td>\n",
       "      <td>0.234615</td>\n",
       "    </tr>\n",
       "    <tr>\n",
       "      <th>6</th>\n",
       "      <td>Im still collecting my thoughts after experien...</td>\n",
       "      <td>0.8873</td>\n",
       "      <td>0.131</td>\n",
       "      <td>0.063</td>\n",
       "      <td>0.806</td>\n",
       "      <td>0.242708</td>\n",
       "    </tr>\n",
       "    <tr>\n",
       "      <th>7</th>\n",
       "      <td>Oppenheimer might be the best film I watched i...</td>\n",
       "      <td>0.9896</td>\n",
       "      <td>0.183</td>\n",
       "      <td>0.031</td>\n",
       "      <td>0.785</td>\n",
       "      <td>0.155246</td>\n",
       "    </tr>\n",
       "    <tr>\n",
       "      <th>8</th>\n",
       "      <td>Master craftsman, Christopher Nolan - probably...</td>\n",
       "      <td>0.9795</td>\n",
       "      <td>0.203</td>\n",
       "      <td>0.048</td>\n",
       "      <td>0.749</td>\n",
       "      <td>0.308519</td>\n",
       "    </tr>\n",
       "    <tr>\n",
       "      <th>9</th>\n",
       "      <td>Just came out of the theater and watching Oppe...</td>\n",
       "      <td>0.9958</td>\n",
       "      <td>0.287</td>\n",
       "      <td>0.023</td>\n",
       "      <td>0.690</td>\n",
       "      <td>0.273611</td>\n",
       "    </tr>\n",
       "    <tr>\n",
       "      <th>10</th>\n",
       "      <td>Everybody involved with the production of Oppe...</td>\n",
       "      <td>0.9992</td>\n",
       "      <td>0.149</td>\n",
       "      <td>0.062</td>\n",
       "      <td>0.790</td>\n",
       "      <td>0.180092</td>\n",
       "    </tr>\n",
       "  </tbody>\n",
       "</table>\n",
       "</div>"
      ],
      "text/plain": [
       "                                               Review  V_Compound_Score  \\\n",
       "0   Youll have to have your wits about you and you...            0.9902   \n",
       "1   One of the most anticipated films of the year ...            0.9975   \n",
       "2   \"Oppenheimer\" is a biographical thriller film ...            0.9986   \n",
       "3   This movie is just... wow! I dont think I have...            0.9908   \n",
       "4   I may consider myself lucky to be alive to wat...            0.9253   \n",
       "6   Im still collecting my thoughts after experien...            0.8873   \n",
       "7   Oppenheimer might be the best film I watched i...            0.9896   \n",
       "8   Master craftsman, Christopher Nolan - probably...            0.9795   \n",
       "9   Just came out of the theater and watching Oppe...            0.9958   \n",
       "10  Everybody involved with the production of Oppe...            0.9992   \n",
       "\n",
       "    V_Positive_Score  V_Negative_Score  V_Neutral_Score  TextBlob_Score  \n",
       "0              0.184             0.050            0.766        0.337667  \n",
       "1              0.236             0.048            0.716        0.259009  \n",
       "2              0.148             0.097            0.755        0.160257  \n",
       "3              0.223             0.060            0.718        0.292188  \n",
       "4              0.167             0.045            0.788        0.234615  \n",
       "6              0.131             0.063            0.806        0.242708  \n",
       "7              0.183             0.031            0.785        0.155246  \n",
       "8              0.203             0.048            0.749        0.308519  \n",
       "9              0.287             0.023            0.690        0.273611  \n",
       "10             0.149             0.062            0.790        0.180092  "
      ]
     },
     "execution_count": 36,
     "metadata": {},
     "output_type": "execute_result"
    }
   ],
   "source": [
    "df.head(10)"
   ]
  },
  {
   "cell_type": "markdown",
   "id": "7e5de10b",
   "metadata": {},
   "source": [
    "**We can clearly see that textblob does not do well**"
   ]
  },
  {
   "cell_type": "markdown",
   "id": "88e29e85",
   "metadata": {},
   "source": [
    "# Flair model"
   ]
  },
  {
   "cell_type": "code",
   "execution_count": 37,
   "id": "2cb220b2",
   "metadata": {},
   "outputs": [
    {
     "data": {
      "application/vnd.jupyter.widget-view+json": {
       "model_id": "31920ef298494c85a0c938773ef0df1c",
       "version_major": 2,
       "version_minor": 0
      },
      "text/plain": [
       "  0%|          | 0/1801 [00:00<?, ?it/s]"
      ]
     },
     "metadata": {},
     "output_type": "display_data"
    }
   ],
   "source": [
    "from flair.models import TextClassifier\n",
    "from flair.data import Sentence\n",
    "from tqdm.notebook import tqdm\n",
    "\n",
    "# Load the pre-trained Flair sentiment analysis model\n",
    "classifier = TextClassifier.load('en-sentiment')\n",
    "\n",
    "flair_scores = []\n",
    "\n",
    "for i, row in tqdm(df.iterrows(), total=len(df)):\n",
    "    text = row['Review']\n",
    "    sentence = Sentence(text)\n",
    "    classifier.predict(sentence)\n",
    "    flair_scores.append(sentence.labels[0].score)\n",
    "\n",
    "df['Flair_Score'] = flair_scores"
   ]
  },
  {
   "cell_type": "code",
   "execution_count": 38,
   "id": "5729e669",
   "metadata": {
    "scrolled": true
   },
   "outputs": [
    {
     "data": {
      "text/html": [
       "<div>\n",
       "<style scoped>\n",
       "    .dataframe tbody tr th:only-of-type {\n",
       "        vertical-align: middle;\n",
       "    }\n",
       "\n",
       "    .dataframe tbody tr th {\n",
       "        vertical-align: top;\n",
       "    }\n",
       "\n",
       "    .dataframe thead th {\n",
       "        text-align: right;\n",
       "    }\n",
       "</style>\n",
       "<table border=\"1\" class=\"dataframe\">\n",
       "  <thead>\n",
       "    <tr style=\"text-align: right;\">\n",
       "      <th></th>\n",
       "      <th>Review</th>\n",
       "      <th>V_Compound_Score</th>\n",
       "      <th>V_Positive_Score</th>\n",
       "      <th>V_Negative_Score</th>\n",
       "      <th>V_Neutral_Score</th>\n",
       "      <th>TextBlob_Score</th>\n",
       "      <th>Flair_Score</th>\n",
       "    </tr>\n",
       "  </thead>\n",
       "  <tbody>\n",
       "    <tr>\n",
       "      <th>0</th>\n",
       "      <td>Youll have to have your wits about you and you...</td>\n",
       "      <td>0.9902</td>\n",
       "      <td>0.184</td>\n",
       "      <td>0.050</td>\n",
       "      <td>0.766</td>\n",
       "      <td>0.337667</td>\n",
       "      <td>0.999992</td>\n",
       "    </tr>\n",
       "    <tr>\n",
       "      <th>1</th>\n",
       "      <td>One of the most anticipated films of the year ...</td>\n",
       "      <td>0.9975</td>\n",
       "      <td>0.236</td>\n",
       "      <td>0.048</td>\n",
       "      <td>0.716</td>\n",
       "      <td>0.259009</td>\n",
       "      <td>0.999030</td>\n",
       "    </tr>\n",
       "    <tr>\n",
       "      <th>2</th>\n",
       "      <td>\"Oppenheimer\" is a biographical thriller film ...</td>\n",
       "      <td>0.9986</td>\n",
       "      <td>0.148</td>\n",
       "      <td>0.097</td>\n",
       "      <td>0.755</td>\n",
       "      <td>0.160257</td>\n",
       "      <td>0.999638</td>\n",
       "    </tr>\n",
       "    <tr>\n",
       "      <th>3</th>\n",
       "      <td>This movie is just... wow! I dont think I have...</td>\n",
       "      <td>0.9908</td>\n",
       "      <td>0.223</td>\n",
       "      <td>0.060</td>\n",
       "      <td>0.718</td>\n",
       "      <td>0.292188</td>\n",
       "      <td>0.999995</td>\n",
       "    </tr>\n",
       "    <tr>\n",
       "      <th>4</th>\n",
       "      <td>I may consider myself lucky to be alive to wat...</td>\n",
       "      <td>0.9253</td>\n",
       "      <td>0.167</td>\n",
       "      <td>0.045</td>\n",
       "      <td>0.788</td>\n",
       "      <td>0.234615</td>\n",
       "      <td>0.999964</td>\n",
       "    </tr>\n",
       "    <tr>\n",
       "      <th>6</th>\n",
       "      <td>Im still collecting my thoughts after experien...</td>\n",
       "      <td>0.8873</td>\n",
       "      <td>0.131</td>\n",
       "      <td>0.063</td>\n",
       "      <td>0.806</td>\n",
       "      <td>0.242708</td>\n",
       "      <td>0.999986</td>\n",
       "    </tr>\n",
       "    <tr>\n",
       "      <th>7</th>\n",
       "      <td>Oppenheimer might be the best film I watched i...</td>\n",
       "      <td>0.9896</td>\n",
       "      <td>0.183</td>\n",
       "      <td>0.031</td>\n",
       "      <td>0.785</td>\n",
       "      <td>0.155246</td>\n",
       "      <td>0.999992</td>\n",
       "    </tr>\n",
       "    <tr>\n",
       "      <th>8</th>\n",
       "      <td>Master craftsman, Christopher Nolan - probably...</td>\n",
       "      <td>0.9795</td>\n",
       "      <td>0.203</td>\n",
       "      <td>0.048</td>\n",
       "      <td>0.749</td>\n",
       "      <td>0.308519</td>\n",
       "      <td>0.999991</td>\n",
       "    </tr>\n",
       "    <tr>\n",
       "      <th>9</th>\n",
       "      <td>Just came out of the theater and watching Oppe...</td>\n",
       "      <td>0.9958</td>\n",
       "      <td>0.287</td>\n",
       "      <td>0.023</td>\n",
       "      <td>0.690</td>\n",
       "      <td>0.273611</td>\n",
       "      <td>0.999974</td>\n",
       "    </tr>\n",
       "    <tr>\n",
       "      <th>10</th>\n",
       "      <td>Everybody involved with the production of Oppe...</td>\n",
       "      <td>0.9992</td>\n",
       "      <td>0.149</td>\n",
       "      <td>0.062</td>\n",
       "      <td>0.790</td>\n",
       "      <td>0.180092</td>\n",
       "      <td>0.971205</td>\n",
       "    </tr>\n",
       "  </tbody>\n",
       "</table>\n",
       "</div>"
      ],
      "text/plain": [
       "                                               Review  V_Compound_Score  \\\n",
       "0   Youll have to have your wits about you and you...            0.9902   \n",
       "1   One of the most anticipated films of the year ...            0.9975   \n",
       "2   \"Oppenheimer\" is a biographical thriller film ...            0.9986   \n",
       "3   This movie is just... wow! I dont think I have...            0.9908   \n",
       "4   I may consider myself lucky to be alive to wat...            0.9253   \n",
       "6   Im still collecting my thoughts after experien...            0.8873   \n",
       "7   Oppenheimer might be the best film I watched i...            0.9896   \n",
       "8   Master craftsman, Christopher Nolan - probably...            0.9795   \n",
       "9   Just came out of the theater and watching Oppe...            0.9958   \n",
       "10  Everybody involved with the production of Oppe...            0.9992   \n",
       "\n",
       "    V_Positive_Score  V_Negative_Score  V_Neutral_Score  TextBlob_Score  \\\n",
       "0              0.184             0.050            0.766        0.337667   \n",
       "1              0.236             0.048            0.716        0.259009   \n",
       "2              0.148             0.097            0.755        0.160257   \n",
       "3              0.223             0.060            0.718        0.292188   \n",
       "4              0.167             0.045            0.788        0.234615   \n",
       "6              0.131             0.063            0.806        0.242708   \n",
       "7              0.183             0.031            0.785        0.155246   \n",
       "8              0.203             0.048            0.749        0.308519   \n",
       "9              0.287             0.023            0.690        0.273611   \n",
       "10             0.149             0.062            0.790        0.180092   \n",
       "\n",
       "    Flair_Score  \n",
       "0      0.999992  \n",
       "1      0.999030  \n",
       "2      0.999638  \n",
       "3      0.999995  \n",
       "4      0.999964  \n",
       "6      0.999986  \n",
       "7      0.999992  \n",
       "8      0.999991  \n",
       "9      0.999974  \n",
       "10     0.971205  "
      ]
     },
     "execution_count": 38,
     "metadata": {},
     "output_type": "execute_result"
    }
   ],
   "source": [
    "df.head(10)"
   ]
  },
  {
   "cell_type": "markdown",
   "id": "184f88c7",
   "metadata": {},
   "source": [
    "**The Flair model performance is even worse than textblob**"
   ]
  },
  {
   "cell_type": "markdown",
   "id": "021a3ca2",
   "metadata": {},
   "source": [
    "**Therefore we can see that the vader model is the one which performs well, So we will use the vader model**"
   ]
  },
  {
   "cell_type": "code",
   "execution_count": 39,
   "id": "8de2a0d9",
   "metadata": {},
   "outputs": [
    {
     "data": {
      "text/plain": [
       "Index(['Review', 'V_Compound_Score', 'V_Positive_Score', 'V_Negative_Score',\n",
       "       'V_Neutral_Score', 'TextBlob_Score', 'Flair_Score'],\n",
       "      dtype='object')"
      ]
     },
     "execution_count": 39,
     "metadata": {},
     "output_type": "execute_result"
    }
   ],
   "source": [
    "df.columns"
   ]
  },
  {
   "cell_type": "code",
   "execution_count": 40,
   "id": "f9437d6f",
   "metadata": {},
   "outputs": [],
   "source": [
    "df=df.drop(columns=['V_Positive_Score', 'V_Negative_Score',\n",
    "       'V_Neutral_Score', 'TextBlob_Score', 'Flair_Score'])"
   ]
  },
  {
   "cell_type": "code",
   "execution_count": 41,
   "id": "54742db8",
   "metadata": {},
   "outputs": [
    {
     "data": {
      "text/html": [
       "<div>\n",
       "<style scoped>\n",
       "    .dataframe tbody tr th:only-of-type {\n",
       "        vertical-align: middle;\n",
       "    }\n",
       "\n",
       "    .dataframe tbody tr th {\n",
       "        vertical-align: top;\n",
       "    }\n",
       "\n",
       "    .dataframe thead th {\n",
       "        text-align: right;\n",
       "    }\n",
       "</style>\n",
       "<table border=\"1\" class=\"dataframe\">\n",
       "  <thead>\n",
       "    <tr style=\"text-align: right;\">\n",
       "      <th></th>\n",
       "      <th>Review</th>\n",
       "      <th>V_Compound_Score</th>\n",
       "    </tr>\n",
       "  </thead>\n",
       "  <tbody>\n",
       "    <tr>\n",
       "      <th>0</th>\n",
       "      <td>Youll have to have your wits about you and you...</td>\n",
       "      <td>0.9902</td>\n",
       "    </tr>\n",
       "    <tr>\n",
       "      <th>1</th>\n",
       "      <td>One of the most anticipated films of the year ...</td>\n",
       "      <td>0.9975</td>\n",
       "    </tr>\n",
       "    <tr>\n",
       "      <th>2</th>\n",
       "      <td>\"Oppenheimer\" is a biographical thriller film ...</td>\n",
       "      <td>0.9986</td>\n",
       "    </tr>\n",
       "    <tr>\n",
       "      <th>3</th>\n",
       "      <td>This movie is just... wow! I dont think I have...</td>\n",
       "      <td>0.9908</td>\n",
       "    </tr>\n",
       "    <tr>\n",
       "      <th>4</th>\n",
       "      <td>I may consider myself lucky to be alive to wat...</td>\n",
       "      <td>0.9253</td>\n",
       "    </tr>\n",
       "  </tbody>\n",
       "</table>\n",
       "</div>"
      ],
      "text/plain": [
       "                                              Review  V_Compound_Score\n",
       "0  Youll have to have your wits about you and you...            0.9902\n",
       "1  One of the most anticipated films of the year ...            0.9975\n",
       "2  \"Oppenheimer\" is a biographical thriller film ...            0.9986\n",
       "3  This movie is just... wow! I dont think I have...            0.9908\n",
       "4  I may consider myself lucky to be alive to wat...            0.9253"
      ]
     },
     "execution_count": 41,
     "metadata": {},
     "output_type": "execute_result"
    }
   ],
   "source": [
    "df.head()"
   ]
  },
  {
   "cell_type": "code",
   "execution_count": 42,
   "id": "2ceaec0f",
   "metadata": {},
   "outputs": [
    {
     "data": {
      "text/html": [
       "<div>\n",
       "<style scoped>\n",
       "    .dataframe tbody tr th:only-of-type {\n",
       "        vertical-align: middle;\n",
       "    }\n",
       "\n",
       "    .dataframe tbody tr th {\n",
       "        vertical-align: top;\n",
       "    }\n",
       "\n",
       "    .dataframe thead th {\n",
       "        text-align: right;\n",
       "    }\n",
       "</style>\n",
       "<table border=\"1\" class=\"dataframe\">\n",
       "  <thead>\n",
       "    <tr style=\"text-align: right;\">\n",
       "      <th></th>\n",
       "      <th>Review</th>\n",
       "      <th>Sentiment</th>\n",
       "    </tr>\n",
       "  </thead>\n",
       "  <tbody>\n",
       "    <tr>\n",
       "      <th>0</th>\n",
       "      <td>Youll have to have your wits about you and you...</td>\n",
       "      <td>0.9902</td>\n",
       "    </tr>\n",
       "    <tr>\n",
       "      <th>1</th>\n",
       "      <td>One of the most anticipated films of the year ...</td>\n",
       "      <td>0.9975</td>\n",
       "    </tr>\n",
       "    <tr>\n",
       "      <th>2</th>\n",
       "      <td>\"Oppenheimer\" is a biographical thriller film ...</td>\n",
       "      <td>0.9986</td>\n",
       "    </tr>\n",
       "    <tr>\n",
       "      <th>3</th>\n",
       "      <td>This movie is just... wow! I dont think I have...</td>\n",
       "      <td>0.9908</td>\n",
       "    </tr>\n",
       "    <tr>\n",
       "      <th>4</th>\n",
       "      <td>I may consider myself lucky to be alive to wat...</td>\n",
       "      <td>0.9253</td>\n",
       "    </tr>\n",
       "    <tr>\n",
       "      <th>...</th>\n",
       "      <td>...</td>\n",
       "      <td>...</td>\n",
       "    </tr>\n",
       "    <tr>\n",
       "      <th>2220</th>\n",
       "      <td>Totally underwhelmed with Oppenheimer.  Enrico...</td>\n",
       "      <td>0.9747</td>\n",
       "    </tr>\n",
       "    <tr>\n",
       "      <th>2221</th>\n",
       "      <td>Extremely boring and long movie. Thinking that...</td>\n",
       "      <td>0.6773</td>\n",
       "    </tr>\n",
       "    <tr>\n",
       "      <th>2222</th>\n",
       "      <td>Bla bla bla three hours of talking and talking...</td>\n",
       "      <td>0.8623</td>\n",
       "    </tr>\n",
       "    <tr>\n",
       "      <th>2223</th>\n",
       "      <td>Oppenheimer is a long, slow-burning film that ...</td>\n",
       "      <td>0.8911</td>\n",
       "    </tr>\n",
       "    <tr>\n",
       "      <th>2224</th>\n",
       "      <td>Saw Oppenheimer in IMAX format. Its a decent e...</td>\n",
       "      <td>-0.6966</td>\n",
       "    </tr>\n",
       "  </tbody>\n",
       "</table>\n",
       "<p>1801 rows × 2 columns</p>\n",
       "</div>"
      ],
      "text/plain": [
       "                                                 Review  Sentiment\n",
       "0     Youll have to have your wits about you and you...     0.9902\n",
       "1     One of the most anticipated films of the year ...     0.9975\n",
       "2     \"Oppenheimer\" is a biographical thriller film ...     0.9986\n",
       "3     This movie is just... wow! I dont think I have...     0.9908\n",
       "4     I may consider myself lucky to be alive to wat...     0.9253\n",
       "...                                                 ...        ...\n",
       "2220  Totally underwhelmed with Oppenheimer.  Enrico...     0.9747\n",
       "2221  Extremely boring and long movie. Thinking that...     0.6773\n",
       "2222  Bla bla bla three hours of talking and talking...     0.8623\n",
       "2223  Oppenheimer is a long, slow-burning film that ...     0.8911\n",
       "2224  Saw Oppenheimer in IMAX format. Its a decent e...    -0.6966\n",
       "\n",
       "[1801 rows x 2 columns]"
      ]
     },
     "execution_count": 42,
     "metadata": {},
     "output_type": "execute_result"
    }
   ],
   "source": [
    "#Let's rename the column name as Sentiment\n",
    "df=df.rename({'V_Compound_Score':'Sentiment'},axis=1)\n",
    "df"
   ]
  },
  {
   "cell_type": "code",
   "execution_count": 43,
   "id": "26114414",
   "metadata": {},
   "outputs": [],
   "source": [
    "def sentiment(label):\n",
    "    if label <0.5:\n",
    "        return \"Negative\"\n",
    "    elif 0.5 <= label <= 0.72:\n",
    "        return \"Neutral\"\n",
    "    elif label>0.72:\n",
    "        return \"Positive\""
   ]
  },
  {
   "cell_type": "code",
   "execution_count": 44,
   "id": "3bb29083",
   "metadata": {},
   "outputs": [],
   "source": [
    "df['Sentiment'] = df['Sentiment'].apply(sentiment)"
   ]
  },
  {
   "cell_type": "code",
   "execution_count": 45,
   "id": "2b9fc8e8",
   "metadata": {
    "scrolled": false
   },
   "outputs": [
    {
     "data": {
      "text/html": [
       "<div>\n",
       "<style scoped>\n",
       "    .dataframe tbody tr th:only-of-type {\n",
       "        vertical-align: middle;\n",
       "    }\n",
       "\n",
       "    .dataframe tbody tr th {\n",
       "        vertical-align: top;\n",
       "    }\n",
       "\n",
       "    .dataframe thead th {\n",
       "        text-align: right;\n",
       "    }\n",
       "</style>\n",
       "<table border=\"1\" class=\"dataframe\">\n",
       "  <thead>\n",
       "    <tr style=\"text-align: right;\">\n",
       "      <th></th>\n",
       "      <th>Review</th>\n",
       "      <th>Sentiment</th>\n",
       "    </tr>\n",
       "  </thead>\n",
       "  <tbody>\n",
       "    <tr>\n",
       "      <th>0</th>\n",
       "      <td>Youll have to have your wits about you and you...</td>\n",
       "      <td>Positive</td>\n",
       "    </tr>\n",
       "    <tr>\n",
       "      <th>1</th>\n",
       "      <td>One of the most anticipated films of the year ...</td>\n",
       "      <td>Positive</td>\n",
       "    </tr>\n",
       "    <tr>\n",
       "      <th>2</th>\n",
       "      <td>\"Oppenheimer\" is a biographical thriller film ...</td>\n",
       "      <td>Positive</td>\n",
       "    </tr>\n",
       "    <tr>\n",
       "      <th>3</th>\n",
       "      <td>This movie is just... wow! I dont think I have...</td>\n",
       "      <td>Positive</td>\n",
       "    </tr>\n",
       "    <tr>\n",
       "      <th>4</th>\n",
       "      <td>I may consider myself lucky to be alive to wat...</td>\n",
       "      <td>Positive</td>\n",
       "    </tr>\n",
       "  </tbody>\n",
       "</table>\n",
       "</div>"
      ],
      "text/plain": [
       "                                              Review Sentiment\n",
       "0  Youll have to have your wits about you and you...  Positive\n",
       "1  One of the most anticipated films of the year ...  Positive\n",
       "2  \"Oppenheimer\" is a biographical thriller film ...  Positive\n",
       "3  This movie is just... wow! I dont think I have...  Positive\n",
       "4  I may consider myself lucky to be alive to wat...  Positive"
      ]
     },
     "execution_count": 45,
     "metadata": {},
     "output_type": "execute_result"
    }
   ],
   "source": [
    "df.head()"
   ]
  },
  {
   "cell_type": "markdown",
   "id": "471fbd22",
   "metadata": {},
   "source": [
    "Yes, Finally done but we can see that in rare cases, the model doesn't predict the sentiment properly"
   ]
  },
  {
   "cell_type": "code",
   "execution_count": 46,
   "id": "8ca3aec0",
   "metadata": {
    "scrolled": false
   },
   "outputs": [
    {
     "data": {
      "text/html": [
       "<div>\n",
       "<style scoped>\n",
       "    .dataframe tbody tr th:only-of-type {\n",
       "        vertical-align: middle;\n",
       "    }\n",
       "\n",
       "    .dataframe tbody tr th {\n",
       "        vertical-align: top;\n",
       "    }\n",
       "\n",
       "    .dataframe thead th {\n",
       "        text-align: right;\n",
       "    }\n",
       "</style>\n",
       "<table border=\"1\" class=\"dataframe\">\n",
       "  <thead>\n",
       "    <tr style=\"text-align: right;\">\n",
       "      <th></th>\n",
       "      <th>Review</th>\n",
       "      <th>Sentiment</th>\n",
       "    </tr>\n",
       "  </thead>\n",
       "  <tbody>\n",
       "    <tr>\n",
       "      <th>131</th>\n",
       "      <td>Overambitieus movie with too many stories to t...</td>\n",
       "      <td>Neutral</td>\n",
       "    </tr>\n",
       "    <tr>\n",
       "      <th>215</th>\n",
       "      <td>Oppenheimer is an enthralling character drama ...</td>\n",
       "      <td>Neutral</td>\n",
       "    </tr>\n",
       "    <tr>\n",
       "      <th>242</th>\n",
       "      <td>The casting is phenomenal. A lot of people wil...</td>\n",
       "      <td>Neutral</td>\n",
       "    </tr>\n",
       "    <tr>\n",
       "      <th>278</th>\n",
       "      <td>The film is interesting from a political point...</td>\n",
       "      <td>Neutral</td>\n",
       "    </tr>\n",
       "    <tr>\n",
       "      <th>360</th>\n",
       "      <td>The only thing that kept me from giving this f...</td>\n",
       "      <td>Neutral</td>\n",
       "    </tr>\n",
       "    <tr>\n",
       "      <th>...</th>\n",
       "      <td>...</td>\n",
       "      <td>...</td>\n",
       "    </tr>\n",
       "    <tr>\n",
       "      <th>2132</th>\n",
       "      <td>Great movie, but with a great fault; not a min...</td>\n",
       "      <td>Neutral</td>\n",
       "    </tr>\n",
       "    <tr>\n",
       "      <th>2136</th>\n",
       "      <td>Another Christopher Nolan masterpiece, as it s...</td>\n",
       "      <td>Neutral</td>\n",
       "    </tr>\n",
       "    <tr>\n",
       "      <th>2187</th>\n",
       "      <td>Dont watch! Sheer wastage of money. Only lawye...</td>\n",
       "      <td>Neutral</td>\n",
       "    </tr>\n",
       "    <tr>\n",
       "      <th>2212</th>\n",
       "      <td>I suppose these reviews are tweaked, otherwise...</td>\n",
       "      <td>Neutral</td>\n",
       "    </tr>\n",
       "    <tr>\n",
       "      <th>2221</th>\n",
       "      <td>Extremely boring and long movie. Thinking that...</td>\n",
       "      <td>Neutral</td>\n",
       "    </tr>\n",
       "  </tbody>\n",
       "</table>\n",
       "<p>85 rows × 2 columns</p>\n",
       "</div>"
      ],
      "text/plain": [
       "                                                 Review Sentiment\n",
       "131   Overambitieus movie with too many stories to t...   Neutral\n",
       "215   Oppenheimer is an enthralling character drama ...   Neutral\n",
       "242   The casting is phenomenal. A lot of people wil...   Neutral\n",
       "278   The film is interesting from a political point...   Neutral\n",
       "360   The only thing that kept me from giving this f...   Neutral\n",
       "...                                                 ...       ...\n",
       "2132  Great movie, but with a great fault; not a min...   Neutral\n",
       "2136  Another Christopher Nolan masterpiece, as it s...   Neutral\n",
       "2187  Dont watch! Sheer wastage of money. Only lawye...   Neutral\n",
       "2212  I suppose these reviews are tweaked, otherwise...   Neutral\n",
       "2221  Extremely boring and long movie. Thinking that...   Neutral\n",
       "\n",
       "[85 rows x 2 columns]"
      ]
     },
     "execution_count": 46,
     "metadata": {},
     "output_type": "execute_result"
    }
   ],
   "source": [
    "df[df[\"Sentiment\"]==\"Neutral\"]"
   ]
  },
  {
   "cell_type": "code",
   "execution_count": 47,
   "id": "60db4fb8",
   "metadata": {
    "scrolled": true
   },
   "outputs": [
    {
     "data": {
      "text/plain": [
       "'If i could give zero i would. Boring, long and waste of money. I was expecting more about how was the bomb designed and how he actually did. But nothing. I understand more from Wikipedia. Im afraid the film \"Oppenheimer\" fell flat in more than a few areas. The most noticeable issue was the pacing; the movie was an exhausting, drawn-out affair that rarely managed to hold my interest. Rather than focusing on the most poignant parts of Oppenheimers life and work, it was bogged down in needless minutiae.  The characterization of Oppenheimer himself was another major flaw. For such a complex and historically significant figure, the movie offered a disappointingly one-dimensional portrayal. The acting was passable but lacked the depth and nuance necessary to truly capture the essence of this troubled genius.  Finally, the storytelling was lackluster. Crucial historical events were glossed over or presented without context, leaving the viewer to grapple with a disjointed narrative that failed to communicate the significance of Oppenheimers work. All in all, \"Oppenheimer\" missed the mark on several counts and ended up being a disappointing depiction of an otherwise fascinating historical figure.'"
      ]
     },
     "execution_count": 47,
     "metadata": {},
     "output_type": "execute_result"
    }
   ],
   "source": [
    "df[\"Review\"][2125]"
   ]
  },
  {
   "cell_type": "markdown",
   "id": "f16302f4",
   "metadata": {},
   "source": [
    "**Wow, the vader model used is pretty good, the sentiments are on point except a very few**"
   ]
  },
  {
   "cell_type": "code",
   "execution_count": 48,
   "id": "81210940",
   "metadata": {},
   "outputs": [
    {
     "data": {
      "image/png": "[encoded data removed]",
      "text/plain": [
       "<Figure size 800x600 with 1 Axes>"
      ]
     },
     "metadata": {},
     "output_type": "display_data"
    }
   ],
   "source": [
    "import matplotlib.pyplot as plt\n",
    "\n",
    "\n",
    "value_counts = df['Sentiment'].value_counts()\n",
    "\n",
    "plt.figure(figsize=(8, 6))\n",
    "bars = plt.bar(value_counts.index, value_counts.values, color='skyblue')\n",
    "\n",
    "for bar in bars:\n",
    "    height = bar.get_height()\n",
    "    plt.text(bar.get_x() + bar.get_width() / 2, height, str(height), ha='center', va='bottom')\n",
    "\n",
    "plt.xlabel('Sentiment')\n",
    "plt.ylabel('Count')\n",
    "plt.title('Sentiment Distribution')\n",
    "plt.xticks(rotation=0)\n",
    "\n",
    "plt.tight_layout()\n",
    "plt.show()\n"
   ]
  },
  {
   "cell_type": "markdown",
   "id": "143395ca",
   "metadata": {},
   "source": [
    "In this bar chart, we can see that the movie **\"Oppenheimer\"** have more **Postive** reviews"
   ]
  },
  {
   "cell_type": "code",
   "execution_count": null,
   "id": "2846d51b",
   "metadata": {
    "scrolled": false
   },
   "outputs": [],
   "source": [
    "# Interactive pyechart\n",
    "\n",
    "# from pyecharts import options as opts\n",
    "# from pyecharts.charts import Bar\n",
    "\n",
    "# value_counts = df['Sentiment'].value_counts()\n",
    "\n",
    "# bar = Bar()\n",
    "# bar.add_xaxis(value_counts.index.tolist())\n",
    "# bar.add_yaxis('', value_counts.values.tolist(), itemstyle_opts=opts.ItemStyleOpts(color='skyblue'))\n",
    "# bar.set_global_opts(title_opts=opts.TitleOpts(title='Sentiment Distribution'), xaxis_opts=opts.AxisOpts(axislabel_opts=opts.LabelOpts(rotate=-45)))\n",
    "# bar.render_notebook()"
   ]
  },
  {
   "cell_type": "markdown",
   "id": "2e94b535",
   "metadata": {},
   "source": [
    "##  <font color=\"lightpink\">**Let's move on to barbie, shall we... :P**</font>\n"
   ]
  }
 ],
 "metadata": {
  "kernelspec": {
   "display_name": "Python 3 (ipykernel)",
   "language": "python",
   "name": "python3"
  },
  "language_info": {
   "codemirror_mode": {
    "name": "ipython",
    "version": 3
   },
   "file_extension": ".py",
   "mimetype": "text/x-python",
   "name": "python",
   "nbconvert_exporter": "python",
   "pygments_lexer": "ipython3",
   "version": "3.11.4"
  }
 },
 "nbformat": 4,
 "nbformat_minor": 5
}
